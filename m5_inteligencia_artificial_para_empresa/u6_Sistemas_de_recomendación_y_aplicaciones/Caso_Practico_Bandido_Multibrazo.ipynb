{
 "cells": [
  {
   "cell_type": "markdown",
   "id": "fccd380f",
   "metadata": {},
   "source": [
    "\n",
    "# Bandido Multibrazo (epsilon–greedy)\n",
    "\n",
    "Este notebook es **auto-contenido** y reproduce el caso práctico de optimización de un banner con 5 imágenes (5 brazos)\n",
    "\n",
    "Responde automáticamente a las 3 preguntas del enunciado:\n",
    "\n",
    "1. **¿Cuál es el valor de ε que maximiza la imagen con mayor número de clics?**  \n",
    "2. **¿Cuál es la imagen que más clics obtiene y cuántos?**  \n",
    "3. **¿Qué ocurre con explotación 100% (ε = 0)?**"
   ]
  },
  {
   "cell_type": "code",
   "execution_count": 2,
   "id": "80b41656",
   "metadata": {},
   "outputs": [],
   "source": [
    "import numpy as np\n",
    "import pandas as pd\n",
    "\n",
    "# Para reproducibilidad\n",
    "rng = np.random.default_rng(42)\n",
    "\n",
    "# Probabilidades \"reales\" de click por imagen (brazos)\n",
    "TRUE_PROBS = np.array([0.1, 0.6, 0.2, 0.1, 0.3])  # 5 imágenes\n",
    "N_ARMS = len(TRUE_PROBS)\n",
    "\n",
    "def bernoulli(p, rng):\n",
    "    return 1 if rng.random() < p else 0"
   ]
  },
  {
   "cell_type": "code",
   "execution_count": 3,
   "id": "88f5d2c4",
   "metadata": {},
   "outputs": [],
   "source": [
    "def multi_armed_bandit(num_games=1000, epsilon=0.1, rng=None, true_probs=None):\n",
    "    \"\"\"\n",
    "    Epsilon-greedy clásico para bandido multibrazo.\n",
    "    Devuelve:\n",
    "      - bandits: probabilidades reales (array)\n",
    "      - total_reward: clics totales (int)\n",
    "      - q_bandits: estimación Q(a) final por brazo (array float)\n",
    "      - num_selected_bandit: cuántas veces se eligió cada brazo (array int)\n",
    "      - clicks_por_brazo: clics logrados por brazo (array int)\n",
    "    \"\"\"\n",
    "    if rng is None:\n",
    "        rng = np.random.default_rng()\n",
    "    if true_probs is None:\n",
    "        true_probs = TRUE_PROBS\n",
    "\n",
    "    n_arms = len(true_probs)\n",
    "    q = np.zeros(n_arms, dtype=float)              # estima recompensa esperada por brazo\n",
    "    n = np.zeros(n_arms, dtype=int)                # conteo de selecciones por brazo\n",
    "    clicks = np.zeros(n_arms, dtype=int)           # clics acumulados por brazo\n",
    "    total_reward = 0\n",
    "\n",
    "    for t in range(num_games):\n",
    "        # selección epsilon-greedy\n",
    "        if rng.random() < epsilon:\n",
    "            a = rng.integers(0, n_arms)           # explorar\n",
    "        else:\n",
    "            a = int(np.argmax(q))                 # explotar\n",
    "\n",
    "        # generar recompensa (click) ~ Bernoulli(true_probs[a])\n",
    "        r = 1 if rng.random() < true_probs[a] else 0\n",
    "\n",
    "        # actualizar contadores y Q(a)\n",
    "        n[a] += 1\n",
    "        clicks[a] += r\n",
    "        total_reward += r\n",
    "        # actualización incremental de la media\n",
    "        q[a] += (r - q[a]) / n[a]\n",
    "\n",
    "    return (np.array(true_probs), int(total_reward), q.copy(), n.copy(), clicks.copy())\n"
   ]
  },
  {
   "cell_type": "markdown",
   "id": "cc891b07",
   "metadata": {},
   "source": [
    "## Ejecución de ejemplo (una corrida)"
   ]
  },
  {
   "cell_type": "code",
   "execution_count": 4,
   "id": "db44c372",
   "metadata": {},
   "outputs": [
    {
     "name": "stdout",
     "output_type": "stream",
     "text": [
      "Probabilidades reales: [0.1 0.6 0.2 0.1 0.3]\n",
      "Clicks totales: 544\n",
      "Q finales: [0.068 0.6   0.125 0.    0.238]\n",
      "Veces elegido: [ 44 889  24  22  21]\n",
      "Clicks por imagen: [  3 533   3   0   5]\n"
     ]
    }
   ],
   "source": [
    "\n",
    "bandits, total_reward, q_bandits, num_selected_bandit, clicks_por_brazo = multi_armed_bandit(\n",
    "    num_games=1000, epsilon=0.1, rng=np.random.default_rng(123)\n",
    ")\n",
    "print(\"Probabilidades reales:\", bandits)\n",
    "print(\"Clicks totales:\", total_reward)\n",
    "print(\"Q finales:\", np.round(q_bandits, 3))\n",
    "print(\"Veces elegido:\", num_selected_bandit)\n",
    "print(\"Clicks por imagen:\", clicks_por_brazo)\n"
   ]
  },
  {
   "cell_type": "markdown",
   "id": "1c37cec8",
   "metadata": {},
   "source": [
    "## P1) Barrido de ε para maximizar clics del mejor brazo"
   ]
  },
  {
   "cell_type": "code",
   "execution_count": 5,
   "id": "43788b42",
   "metadata": {},
   "outputs": [
    {
     "name": "stdout",
     "output_type": "stream",
     "text": [
      "Tabla resumen por ε:\n"
     ]
    },
    {
     "data": {
      "text/html": [
       "<div>\n",
       "<style scoped>\n",
       "    .dataframe tbody tr th:only-of-type {\n",
       "        vertical-align: middle;\n",
       "    }\n",
       "\n",
       "    .dataframe tbody tr th {\n",
       "        vertical-align: top;\n",
       "    }\n",
       "\n",
       "    .dataframe thead th {\n",
       "        text-align: right;\n",
       "    }\n",
       "</style>\n",
       "<table border=\"1\" class=\"dataframe\">\n",
       "  <thead>\n",
       "    <tr style=\"text-align: right;\">\n",
       "      <th></th>\n",
       "      <th>epsilon</th>\n",
       "      <th>clicks_mejor_brazo_prom</th>\n",
       "      <th>total_clicks_prom</th>\n",
       "      <th>best_arm_mode</th>\n",
       "    </tr>\n",
       "  </thead>\n",
       "  <tbody>\n",
       "    <tr>\n",
       "      <th>0</th>\n",
       "      <td>0.00</td>\n",
       "      <td>100.80</td>\n",
       "      <td>100.80</td>\n",
       "      <td>0</td>\n",
       "    </tr>\n",
       "    <tr>\n",
       "      <th>1</th>\n",
       "      <td>0.01</td>\n",
       "      <td>253.28</td>\n",
       "      <td>294.68</td>\n",
       "      <td>1</td>\n",
       "    </tr>\n",
       "    <tr>\n",
       "      <th>2</th>\n",
       "      <td>0.05</td>\n",
       "      <td>463.26</td>\n",
       "      <td>498.10</td>\n",
       "      <td>1</td>\n",
       "    </tr>\n",
       "    <tr>\n",
       "      <th>3</th>\n",
       "      <td>0.10</td>\n",
       "      <td>491.78</td>\n",
       "      <td>521.60</td>\n",
       "      <td>1</td>\n",
       "    </tr>\n",
       "    <tr>\n",
       "      <th>4</th>\n",
       "      <td>0.15</td>\n",
       "      <td>486.98</td>\n",
       "      <td>517.84</td>\n",
       "      <td>1</td>\n",
       "    </tr>\n",
       "    <tr>\n",
       "      <th>5</th>\n",
       "      <td>0.20</td>\n",
       "      <td>479.94</td>\n",
       "      <td>513.28</td>\n",
       "      <td>1</td>\n",
       "    </tr>\n",
       "    <tr>\n",
       "      <th>6</th>\n",
       "      <td>0.30</td>\n",
       "      <td>441.52</td>\n",
       "      <td>487.92</td>\n",
       "      <td>1</td>\n",
       "    </tr>\n",
       "    <tr>\n",
       "      <th>7</th>\n",
       "      <td>0.50</td>\n",
       "      <td>352.48</td>\n",
       "      <td>426.22</td>\n",
       "      <td>1</td>\n",
       "    </tr>\n",
       "  </tbody>\n",
       "</table>\n",
       "</div>"
      ],
      "text/plain": [
       "   epsilon  clicks_mejor_brazo_prom  total_clicks_prom  best_arm_mode\n",
       "0     0.00                   100.80             100.80              0\n",
       "1     0.01                   253.28             294.68              1\n",
       "2     0.05                   463.26             498.10              1\n",
       "3     0.10                   491.78             521.60              1\n",
       "4     0.15                   486.98             517.84              1\n",
       "5     0.20                   479.94             513.28              1\n",
       "6     0.30                   441.52             487.92              1\n",
       "7     0.50                   352.48             426.22              1"
      ]
     },
     "metadata": {},
     "output_type": "display_data"
    },
    {
     "name": "stdout",
     "output_type": "stream",
     "text": [
      "\n",
      "Respuesta P1 → ε óptimo: 0.1\n",
      "   Promedio clicks del mejor brazo: 491.78\n",
      "   Promedio clicks totales: 521.6\n",
      "   Brazo más frecuente como 'mejor' (modo): 1 (indexado desde 0; imagen humana = 2 )\n"
     ]
    }
   ],
   "source": [
    "\n",
    "eps_grid = [0.0, 0.01, 0.05, 0.1, 0.15, 0.2, 0.3, 0.5]\n",
    "rep = 50          # repeticiones por epsilon para estabilidad\n",
    "num_games = 1000\n",
    "\n",
    "rows = []\n",
    "for eps in eps_grid:\n",
    "    for rseed in range(rep):\n",
    "        out = multi_armed_bandit(num_games=num_games, epsilon=eps, rng=np.random.default_rng(rseed))\n",
    "        bandits, total_reward, qB, n_sel, clicks = out\n",
    "        rows.append({\n",
    "            \"epsilon\": eps,\n",
    "            \"mejor_imagen_idx\": int(np.argmax(clicks)),\n",
    "            \"clicks_mejor_imagen\": int(np.max(clicks)),\n",
    "            \"total_clicks\": int(total_reward)\n",
    "        })\n",
    "\n",
    "df = pd.DataFrame(rows)\n",
    "\n",
    "resumen = (df.groupby(\"epsilon\", as_index=False)\n",
    "             .agg(clicks_mejor_brazo_prom=(\"clicks_mejor_imagen\", \"mean\"),\n",
    "                  total_clicks_prom=(\"total_clicks\", \"mean\"),\n",
    "                  best_arm_mode=(\"mejor_imagen_idx\", lambda x: x.mode().iat[0])))\n",
    "\n",
    "# Epsilon que maximiza la métrica principal (promedio de clicks del mejor brazo)\n",
    "fila_top = resumen.sort_values(\"clicks_mejor_brazo_prom\", ascending=False).iloc[0]\n",
    "epsilon_opt = float(fila_top[\"epsilon\"])\n",
    "clicks_mejor_brazo_prom = float(fila_top[\"clicks_mejor_brazo_prom\"])\n",
    "total_clicks_prom = float(fila_top[\"total_clicks_prom\"])\n",
    "best_arm_mode = int(fila_top[\"best_arm_mode\"])\n",
    "\n",
    "print(\"Tabla resumen por ε:\")\n",
    "display(resumen)\n",
    "\n",
    "print(\"\\nRespuesta P1 → ε óptimo:\", epsilon_opt)\n",
    "print(\"   Promedio clicks del mejor brazo:\", round(clicks_mejor_brazo_prom, 2))\n",
    "print(\"   Promedio clicks totales:\", round(total_clicks_prom, 2))\n",
    "print(\"   Brazo más frecuente como 'mejor' (modo):\", best_arm_mode, \"(indexado desde 0; imagen humana =\", best_arm_mode+1, \")\")\n"
   ]
  },
  {
   "cell_type": "markdown",
   "id": "7b0f3517",
   "metadata": {},
   "source": [
    "## P2) Imagen que más clics obtiene y cuántos (con ε óptimo)"
   ]
  },
  {
   "cell_type": "code",
   "execution_count": 6,
   "id": "59b0268b",
   "metadata": {},
   "outputs": [
    {
     "name": "stdout",
     "output_type": "stream",
     "text": [
      "Respuesta P2 → Imagen que más clics obtiene (con ε óptimo):\n",
      "   Imagen (index Python): 1 → Imagen humana: 2\n",
      "   Clics de esa imagen: 577\n",
      "   Clicks por imagen: [6, 577, 2, 4, 5]\n",
      "   Veces elegida por imagen: [31, 915, 17, 19, 18]\n",
      "   Q finales: [0.194, 0.631, 0.118, 0.211, 0.278]\n"
     ]
    }
   ],
   "source": [
    "\n",
    "# Ejecutamos varias veces con epsilon_opt y tomamos la mejor corrida observada\n",
    "mejor_corrida = None\n",
    "best_clicks = -1\n",
    "\n",
    "for rseed in range(200):\n",
    "    out = multi_armed_bandit(num_games=num_games, epsilon=epsilon_opt, rng=np.random.default_rng(10_000 + rseed))\n",
    "    bandits, total_reward, qB, n_sel, clicks = out\n",
    "    if int(np.max(clicks)) > best_clicks:\n",
    "        best_clicks = int(np.max(clicks))\n",
    "        mejor_corrida = out\n",
    "\n",
    "bandits, total_reward, qB, n_sel, clicks = mejor_corrida\n",
    "imagen_top_idx = int(np.argmax(clicks))\n",
    "imagen_top_hum = imagen_top_idx + 1  # 1..5 para reportar como \"imagen #\"\n",
    "\n",
    "print(\"Respuesta P2 → Imagen que más clics obtiene (con ε óptimo):\")\n",
    "print(\"   Imagen (index Python):\", imagen_top_idx,  \"→ Imagen humana:\", imagen_top_hum)\n",
    "print(\"   Clics de esa imagen:\", int(np.max(clicks)))\n",
    "print(\"   Clicks por imagen:\", clicks.tolist())\n",
    "print(\"   Veces elegida por imagen:\", n_sel.tolist())\n",
    "print(\"   Q finales:\", np.round(qB, 3).tolist())\n"
   ]
  },
  {
   "cell_type": "markdown",
   "id": "f6e36a12",
   "metadata": {},
   "source": [
    "## P3) Solo explotación (ε = 0)"
   ]
  },
  {
   "cell_type": "code",
   "execution_count": 7,
   "id": "f387f78b",
   "metadata": {},
   "outputs": [
    {
     "name": "stdout",
     "output_type": "stream",
     "text": [
      "Respuesta P3 → Resultados con ε = 0 (100% explotación)\n",
      "   Mejor imagen (argmax clicks): 0 → Imagen humana: 1\n",
      "   Clicks de esa imagen: 90\n",
      "   Clicks totales: 90\n",
      "   Clicks por imagen: [90, 0, 0, 0, 0]\n",
      "   Veces elegida por imagen: [1000, 0, 0, 0, 0]\n",
      "   Q finales: [0.09, 0.0, 0.0, 0.0, 0.0]\n",
      "\n",
      "Interpretación: con ε=0 no hay exploración; el algoritmo puede atascarse en una elección temprana y no identificar el verdadero mejor brazo si las primeras muestras no fueron representativas.\n"
     ]
    }
   ],
   "source": [
    "\n",
    "out_explot = multi_armed_bandit(num_games=num_games, epsilon=0.0, rng=np.random.default_rng(999))\n",
    "bandits_e0, total_reward_e0, qB_e0, n_sel_e0, clicks_e0 = out_explot\n",
    "\n",
    "print(\"Respuesta P3 → Resultados con ε = 0 (100% explotación)\")\n",
    "print(\"   Mejor imagen (argmax clicks):\", int(np.argmax(clicks_e0)), \"→ Imagen humana:\", int(np.argmax(clicks_e0))+1)\n",
    "print(\"   Clicks de esa imagen:\", int(np.max(clicks_e0)))\n",
    "print(\"   Clicks totales:\", int(total_reward_e0))\n",
    "print(\"   Clicks por imagen:\", clicks_e0.tolist())\n",
    "print(\"   Veces elegida por imagen:\", n_sel_e0.tolist())\n",
    "print(\"   Q finales:\", np.round(qB_e0, 3).tolist())\n",
    "\n",
    "print(\"\\nInterpretación: con ε=0 no hay exploración; el algoritmo puede atascarse en una elección temprana \"\n",
    "      \"y no identificar el verdadero mejor brazo si las primeras muestras no fueron representativas.\")\n"
   ]
  },
  {
   "cell_type": "markdown",
   "id": "e1dcfaa0",
   "metadata": {},
   "source": [
    "## Resumen listo"
   ]
  },
  {
   "cell_type": "code",
   "execution_count": 8,
   "id": "59ee1936",
   "metadata": {},
   "outputs": [
    {
     "name": "stdout",
     "output_type": "stream",
     "text": [
      "P1) ε óptimo: 0.1 | Promedio clicks mejor brazo: 491.78 | Promedio clicks totales: 521.6 | Brazo más frecuente como mejor: 1 (humano = 2 )\n",
      "P2) Con ε óptimo → Imagen (humana) con más clics y cantidad arriba (ver bloque P2).\n",
      "P3) Con ε = 0 → ver bloque P3 (solo explotación).\n"
     ]
    }
   ],
   "source": [
    "\n",
    "print(\"P1) ε óptimo:\", epsilon_opt, \n",
    "      \"| Promedio clicks mejor brazo:\", round(clicks_mejor_brazo_prom, 2),\n",
    "      \"| Promedio clicks totales:\", round(total_clicks_prom, 2),\n",
    "      \"| Brazo más frecuente como mejor:\", best_arm_mode, \"(humano =\", best_arm_mode+1, \")\")\n",
    "\n",
    "print(\"P2) Con ε óptimo → Imagen (humana) con más clics y cantidad arriba (ver bloque P2).\")\n",
    "print(\"P3) Con ε = 0 → ver bloque P3 (solo explotación).\")\n"
   ]
  }
 ],
 "metadata": {
  "kernelspec": {
   "display_name": "Python 3 (ipykernel)",
   "language": "python",
   "name": "python3"
  },
  "language_info": {
   "codemirror_mode": {
    "name": "ipython",
    "version": 3
   },
   "file_extension": ".py",
   "mimetype": "text/x-python",
   "name": "python",
   "nbconvert_exporter": "python",
   "pygments_lexer": "ipython3",
   "version": "3.12.1"
  }
 },
 "nbformat": 4,
 "nbformat_minor": 5
}
