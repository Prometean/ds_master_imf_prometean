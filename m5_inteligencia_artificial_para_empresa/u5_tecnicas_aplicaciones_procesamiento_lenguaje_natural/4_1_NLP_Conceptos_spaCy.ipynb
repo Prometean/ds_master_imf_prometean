{
 "cells": [
  {
   "cell_type": "markdown",
   "metadata": {},
   "source": [
    "# Caso Práctico 4.1\n",
    "\n",
    "* ***spaCy*** es una librería de código abierto en python para el Procesamiento del Lenguaje natural que posee modelos entrenados para varios idiomas, entre ellos el Español.\n",
    "\n",
    "\n",
    "* Es una librería pensada para funcionar en entornos productivos y es una librería con mejor rendimiento que **NLTK**.\n",
    "\n",
    "\n",
    "* Dispone de una web y de una documentación muy buena, incluso se pueden ejecutar ciertos ejemplos en la propia web: https://spacy.io/\n",
    "\n",
    "\n",
    "* Dispone también de un curso online (https://course.spacy.io/) bastante interesante.\n",
    "\n",
    "\n",
    "* Entre otras cosas con ***spaCy*** podemos hacer:\n",
    "    1. Tokenización\n",
    "    2. Lematización\n",
    "    3. Detección de Stop Words\n",
    "    4. Part of Speech (PoS)\n",
    "    5. Named Entity Recognition (NER)\n",
    "\n",
    "\n",
    "* ***spaCy*** puede ser instalado tanto con \"pip\" como con \"conda\" de la siguiente manera respectivamente:\n",
    "\n",
    "```\n",
    ">> pip install spacy\n",
    ">> conda install spacy\n",
    "```\n",
    "\n",
    "\n",
    "* Como se ha comentado anteriormente la ventaja que tiene ***spaCy*** frente a ***NLTK*** en lo que a idiomas se refiere es que permite trabajar con varior idiomas gracias a los modelos que tiene entrenados.\n",
    "\n",
    "\n",
    "* En particular para el Español ***spaCy*** tiene entrenados dos modelos (con Redes Neuronales Convolucionales según su documentación) de pequeño y mediano tamaño con los corpus de **AnCora** (http://clic.ub.edu/corpus/es/ancora) y **WikiNER**.\n",
    "\n",
    "\n",
    "* Estos dos modelos de pequeño y mediano tamaño los podemos encontrar en la web de ***spaCy*** (https://spacy.io/models/es) y son los siguiente:\n",
    "    - es_core_news_md (93 MiB)\n",
    "    - es_core_news_sm (35 MiB)\n",
    "\n",
    "\n",
    "* ***spaCy*** hace uso de estos modelos y tienen que ser descargados, para ello debemos de abrir un terminal en python y ejecutar lo siguiente para descargar el modelo en Español (*NOTA: los que uséis conda, tener activado el entorno*).\n",
    "\n",
    "\n",
    "```\n",
    ">> python3 -m spacy download es\n",
    "```\n",
    "\n",
    "\n",
    "<hr>\n",
    "\n",
    "\n",
    "# spaCy - Arquitectura:\n",
    "\n",
    "* ***spaCy*** utiliza dos tipos de estructuras (objetos) llamados **Doc** y **Vocab**:\n",
    "<span></span><br><br>\n",
    "    - ***Doc***: Este objeto esta formado por una secuencia de Tokens (objetos de la clase ***Token***).\n",
    "<span></span><br><br>\n",
    "    - ***Vocab***: Este objeto posee un conjunto de Look-up tables (tablas de consulta) que hacen que la información común esté disponible en todos los documentos (Lemas, Stop Words, PoS, etc.).\n",
    "\n",
    "\n",
    "* Una forma sencilla de trabajar con ***spaCy*** es:\n",
    "    1. Cargar un modelo de lenguaje (por ejemplo el Español)\n",
    "    2. Dado un texto plano, crear un objeto de la clase \"Doc\" y pasarle el texto plano. El texto ya quedará tokenizado dentro del objeto \"Doc\".\n",
    "    3. Trabajar sobre las palabras del documento.\n",
    "\n",
    "<hr>\n",
    "\n",
    "\n",
    "\n",
    "# Ejemplos con spaCy\n"
   ]
  },
  {
   "cell_type": "markdown",
   "metadata": {},
   "source": [
    "## -Tokenización\n",
    "\n",
    "\n",
    "* Divide las cadenas de texto del documento en piezas más pequeñas o tokens.\n",
    "\n",
    "\n",
    "* Pasos:\n",
    "    1. Importar la librería.\n",
    "    2. Cargar un modelo de lenguaje (el Español).\n",
    "    3. Crear un documento (de la clase \"Doc\") pasándole un texto plano.\n",
    "    4. El objeto de la clase \"Doc\" ya esta tokenizado por palabras y podemos iterar sobre él."
   ]
  },
  {
   "cell_type": "code",
   "execution_count": 1,
   "metadata": {},
   "outputs": [],
   "source": [
    "import spacy"
   ]
  },
  {
   "cell_type": "code",
   "execution_count": 2,
   "metadata": {},
   "outputs": [],
   "source": [
    "nlp = spacy.load(\"es_core_news_sm\")"
   ]
  },
  {
   "cell_type": "code",
   "execution_count": 3,
   "metadata": {},
   "outputs": [
    {
     "name": "stdout",
     "output_type": "stream",
     "text": [
      "Tipo de dato: <class 'spacy.tokens.doc.Doc'>\n",
      "['Un', 'radar', 'multa', 'a', 'Mariano', '.', 'Rajoy', 'por', 'caminar', 'demasiado', 'rápido']\n"
     ]
    }
   ],
   "source": [
    "doc = nlp(\"Un radar multa a Mariano. Rajoy por caminar demasiado rápido\")\n",
    "print('Tipo de dato: ' + str(type(doc)))\n",
    "print([w.text for w in doc])"
   ]
  },
  {
   "cell_type": "markdown",
   "metadata": {},
   "source": [
    "## -Segmentación\n",
    "\n",
    "\n",
    "* La ***segmentación*** divide las cadenas de texto en frases o párrafos.\n",
    "\n",
    "\n",
    "* Para la segmentación en spaCy hay que usar un componente llamado \"**sentencier**\" que divide los textos por simbolos como puntos, interrogantes, etc."
   ]
  },
  {
   "cell_type": "code",
   "execution_count": 6,
   "metadata": {},
   "outputs": [
    {
     "data": {
      "text/plain": [
       "<spacy.pipeline.sentencizer.Sentencizer at 0x768b30503a50>"
      ]
     },
     "execution_count": 6,
     "metadata": {},
     "output_type": "execute_result"
    }
   ],
   "source": [
    "nlp.add_pipe(\"sentencizer\")"
   ]
  },
  {
   "cell_type": "code",
   "execution_count": 7,
   "metadata": {},
   "outputs": [
    {
     "name": "stdout",
     "output_type": "stream",
     "text": [
      "['Frase numero 1.', 'Frase número 2?', 'Frase 3']\n"
     ]
    }
   ],
   "source": [
    "doc = nlp(\"Frase numero 1. Frase número 2? Frase 3\")\n",
    "print([s.text for s in doc.sents])"
   ]
  },
  {
   "cell_type": "markdown",
   "metadata": {},
   "source": [
    "## -Stemming\n",
    "\n",
    "* ***Funcionalidad no disponoble en spaCy***"
   ]
  },
  {
   "cell_type": "markdown",
   "metadata": {},
   "source": [
    "## -Lematización\n",
    "\n",
    "\n",
    "* Proceso lingüístico que sustituye una palabra con forma flexionada (plurales, femeninos, verbos conjugados, etc.) por su lema; es decir, por una palabra válida en el idioma.\n",
    "\n",
    "\n",
    "* ***spaCy*** hace una lematización muy buena en Español.\n",
    "\n",
    "\n",
    "* Los objetos de la clase ***Token*** tienen la propiedad (o atributo) ***lema_*** que nos devuelve el lema del token (o la palabra)."
   ]
  },
  {
   "cell_type": "code",
   "execution_count": 8,
   "metadata": {},
   "outputs": [
    {
     "name": "stdout",
     "output_type": "stream",
     "text": [
      "Unos - uno\n",
      "radares - radar\n",
      "multan - multar\n",
      "a - a\n",
      "Mariano - Mariano\n",
      "Rajoy - Rajoy\n",
      "por - por\n",
      "ir - ir\n",
      "caminando - caminar\n",
      "demasiados - demasiado\n",
      "rápidos - rápido\n"
     ]
    }
   ],
   "source": [
    "doc = nlp(\"Unos radares multan a Mariano Rajoy por ir caminando demasiados rápidos\")\n",
    "for word in doc:\n",
    "    print(word.text + ' - ' + word.lemma_)"
   ]
  },
  {
   "cell_type": "markdown",
   "metadata": {},
   "source": [
    "## -Stop words\n",
    "\n",
    "* Son las palabras que no aportan nada al significado de la frase.\n",
    "\n",
    "\n",
    "* spaCy dispone de más de 500 stop words en Español.\n",
    "\n",
    "\n",
    "* Veamos a continuación las Stop Words en Español."
   ]
  },
  {
   "cell_type": "code",
   "execution_count": 9,
   "metadata": {},
   "outputs": [
    {
     "name": "stdout",
     "output_type": "stream",
     "text": [
      "Número de stop words: 521\n",
      "Stop words: ['uno', 'primeros', 'vuestra', 'tambien', 'dijo', 'cuál', 'despues', 'pocas', 'consigues', 'todo', 'segundo', 'cierto', 'nuestros', 'dar', 'pueden', 'última', 'medio', 'verdadero', 'que', 'hizo', 'ningunas', 'eres', 'si', 'está', 'detras', 'ciertas', 'muchos', 'varios', 'ningunos', 'misma', 'solo', 'qeu', 'van', 'muchas', 'habrá', 'será', 'estan', 'mediante', 'cuanta', 'lado', 'podrán', 'una', 'repente', 'las', 'cuánto', 'ningún', 'conseguir', 'es', 'mi', 'demás', 'podrias', 'ellas', 'existen', 'esto', 'temprano', 'primer', 'salvo', 'nuestra', 'ser', 'dia', 'lo', 'tercera', 'mismos', 'nuevo', 'debe', 'dado', 'todas', 'podrían', 'tal', 'arriba', 'poder', 'nadie', 'mia', 'partir', 'tuyos', 'suya', 'queremos', 'o', 'nosotros', 'alguna', 'primero', 'aquél', 'enfrente', 'nunca', 'los', 'apenas', 'se', 'tuyas', 'despacio', 'haya', 'ambos', 'aquellas', 'cuantas', 'la', 'sera', 'diez', 'sus', 'además', 'mayor', 'tendrá', 'ustedes', 'estará', 'ninguno', 'junto', 'era', 'así', 'saber', 'usan', 'cinco', 'sois', 'tengo', 'estas', 'por', 'tener', 'voy', 'pueda', 'dicho', 'mas', 'tarde', 'algo', 'dejó', 'veces', 'me', 'usar', 'tenía', 'deben', 'él', 'quiere', 'tercero', 'va', 'incluso', 'pero', 'través', 'mismas', 'allí', 'decir', 'igual', 'mejor', 'paìs', 'nuestras', 'para', 'dias', 'tuvo', 'podeis', 'tuya', 'algunas', 'quiénes', 'deprisa', 'bajo', 'estaban', 'cierta', 'estos', 'pudo', 'pronto', 'estar', 'también', 'entre', 'les', 'fueron', 'estoy', 'estais', 'nuevas', 'tenido', 'somos', 'tú', 'aquellos', 'no', 'peor', 'cuántos', 'vuestras', 'ésos', 'informó', 'realizado', 'aqui', 'ciertos', 'este', 'pasado', 'mucha', 'sabes', 'pocos', 'sería', 'todavia', 'bastante', 'esa', 'gran', 'consiguen', 'mía', 'unas', 'cuenta', 'estamos', 'hay', 'aquí', 'sin', 'manifestó', 'mios', 'cuales', 'afirmó', 'ninguna', 'considera', 'muy', 'aseguró', 'sigue', 'toda', 'u', 'ahí', 'vuestro', 'nada', 'ultimo', 'propia', 'puedo', 'enseguida', 'siempre', 'fue', 'tuyo', 'ademas', 'posible', 'nueva', 'agregó', 'eran', 'trata', 'hacemos', 'cómo', 'un', 'alli', 'realizar', 'verdadera', 'lleva', 'mío', 'buena', 'claro', 'hacerlo', 'pesar', 'cuantos', 'mis', 'ésa', 'buen', 'supuesto', 'todavía', 'quién', 'solas', 'eramos', 'cuántas', 'haciendo', 'cuanto', 'dijeron', 'hecho', 'quizas', 'diferente', 'indicó', 'proximo', 'fin', 'quiza', 'hicieron', 'luego', 'bien', 'del', 'nuevos', 'siete', 'unos', 'otra', 'usamos', 'aquella', 'próximo', 'total', 'cuáles', 'tiene', 'os', 'alguno', 'más', 'como', 'pues', 'largo', 'contra', 'algunos', 'aquello', 'modo', 'añadió', 'dentro', 'aquéllas', 'aunque', 'el', 'anterior', 'mucho', 'embargo', 'vaya', 'segunda', 'estaba', 'verdad', 'conseguimos', 'grande', 'llevar', 'próximos', 'mal', 'adelante', 'otras', 'hacen', 'ese', 'podria', 'esos', 'día', 'mí', 'breve', 'creo', 'dieron', 'consideró', 'le', 'todos', 'dos', 'hoy', 'aquel', 'hasta', 'ése', 'tanto', 'durante', 'poner', 'podriais', 'propias', 'ya', 'hacia', 'tres', 'sólo', 'conmigo', 'delante', 'estados', 'ver', 'tu', 'tendrán', 'debajo', 'usa', 'e', 'encima', 'excepto', 'han', 'contigo', 'tus', 'atras', 'vosotros', 'ti', 'casi', 'nosotras', 'quizá', 'ella', 'detrás', 'desde', 'doce', 'cuándo', 'esta', 'mio', 'porque', 'cuando', 'cualquier', 'parte', 'podrá', 'fuera', 'cuánta', 'comentó', 'menos', 'tras', 'ello', 'hemos', 'otro', 'podemos', 'sabeis', 'puede', 'en', 'tenemos', 'quien', 'aquéllos', 'vosotras', 'sola', 'usas', 'varias', 'respecto', 'aproximadamente', 'consigue', 'sí', 'podrian', 'hago', 'manera', 'sido', 'ocho', 'mencionó', 'podría', 'explicó', 'solos', 'teneis', 'hace', 'vamos', 'ellos', 'informo', 'haces', 'dicen', 'cada', 'a', 'suyos', 'últimos', 'alrededor', 'te', 'buenas', 'nos', 'qué', 'dio', 'existe', 'pasada', 'debido', 'nuestro', 'habían', 'con', 'fui', 'habla', 'cuatro', 'eras', 'parece', 'tenga', 'después', 'ahi', 'sabe', 'asi', 'cual', 'suyas', 'uso', 'poca', 'segun', 'últimas', 'tienen', 'sea', 'estado', 'último', 'ir', 'éste', 'son', 'final', 'sabemos', 'eso', 'dónde', 'y', 'al', 'están', 'éstos', 'míos', 'serán', 'ni', 'hubo', 'nueve', 'habia', 'ahora', 'demasiado', 'mismo', 'hablan', 'aun', 'señaló', 'podriamos', 'aún', 'esas', 'ésta', 'haber', 'propio', 'solamente', 'usais', 'yo', 'he', 'sobre', 'dice', 'vuestros', 'mías', 'usted', 'dan', 'según', 'poco', 'aquélla', 'éstas', 'donde', 'antes', 'realizó', 'diferentes', 'bueno', 'quizás', 'da', 'su', 'sé', 'buenos', 'siguiente', 'encuentra', 'vez', 'sino', 'seis', 'consigo', 'había', 'ésas', 'sean', 'tan', 'llegó', 'fuimos', 'quienes', 'de', 'ha', 'ante', 'hacer', 'once', 'acuerdo', 'saben', 'entonces', 'tampoco', 'suyo', 'haceis', 'soy', 'vais', 'menudo', 'algún', 'días', 'siendo', 'estuvo', 'conocer', 'propios', 'quedó', 'mientras', 'mias', 'expresó', 'otros', 'primera', 'grandes']\n"
     ]
    }
   ],
   "source": [
    "stopwords = spacy.lang.es.stop_words.STOP_WORDS\n",
    "print('Número de stop words: ' + str(len(stopwords)))\n",
    "print('Stop words: ' + str(list(stopwords)))"
   ]
  },
  {
   "cell_type": "markdown",
   "metadata": {},
   "source": [
    "* Los objetos de la clase ***Token*** tienen la propiedad ***is_stop*** que devuelve en Boolean indicando si el token es o no una stop word; es decir, si el ***Token*** (o palabra) esta dentro de la lista antes mostrada.\n",
    "\n",
    "\n",
    "* Veamos a continuación como obtener las stop words de una frase con spaCy:"
   ]
  },
  {
   "cell_type": "code",
   "execution_count": 10,
   "metadata": {},
   "outputs": [
    {
     "name": "stdout",
     "output_type": "stream",
     "text": [
      "Un\n",
      "a\n",
      "por\n",
      "demasiado\n"
     ]
    }
   ],
   "source": [
    "doc = nlp(\"Un radar multa a Mariano. Rajoy por caminar demasiado rápido\")\n",
    "for word in doc:\n",
    "    if word.is_stop:\n",
    "        print(word)"
   ]
  },
  {
   "cell_type": "markdown",
   "metadata": {},
   "source": [
    "## -Part of Speech (PoS)\n",
    "\n",
    "* En ***spaCy*** el PoS lo divide en 3 tipos de tags que son:\n",
    "    1. **pos**: etiqueta simple de alto nivel (verbo, nombre, adjetivo, etc).\n",
    "    2. **tag**: etiqueta con más nivel de detalle que el pos.\n",
    "    3. **dep**: dependencia sintáctica para ver la relación entre tokens.\n",
    "\n",
    "\n",
    "* Estos 3 tipos son propiedades de la clase ***Token***:"
   ]
  },
  {
   "cell_type": "code",
   "execution_count": 11,
   "metadata": {},
   "outputs": [
    {
     "data": {
      "text/html": [
       "<div>\n",
       "<style scoped>\n",
       "    .dataframe tbody tr th:only-of-type {\n",
       "        vertical-align: middle;\n",
       "    }\n",
       "\n",
       "    .dataframe tbody tr th {\n",
       "        vertical-align: top;\n",
       "    }\n",
       "\n",
       "    .dataframe thead th {\n",
       "        text-align: right;\n",
       "    }\n",
       "</style>\n",
       "<table border=\"1\" class=\"dataframe\">\n",
       "  <thead>\n",
       "    <tr style=\"text-align: right;\">\n",
       "      <th></th>\n",
       "      <th>Text</th>\n",
       "      <th>PoS</th>\n",
       "      <th>TAG</th>\n",
       "      <th>DEP</th>\n",
       "    </tr>\n",
       "  </thead>\n",
       "  <tbody>\n",
       "    <tr>\n",
       "      <th>0</th>\n",
       "      <td>Un</td>\n",
       "      <td>DET</td>\n",
       "      <td>DET</td>\n",
       "      <td>det</td>\n",
       "    </tr>\n",
       "    <tr>\n",
       "      <th>1</th>\n",
       "      <td>radar</td>\n",
       "      <td>ADJ</td>\n",
       "      <td>ADJ</td>\n",
       "      <td>amod</td>\n",
       "    </tr>\n",
       "    <tr>\n",
       "      <th>2</th>\n",
       "      <td>multo</td>\n",
       "      <td>NOUN</td>\n",
       "      <td>NOUN</td>\n",
       "      <td>ROOT</td>\n",
       "    </tr>\n",
       "    <tr>\n",
       "      <th>3</th>\n",
       "      <td>a</td>\n",
       "      <td>ADP</td>\n",
       "      <td>ADP</td>\n",
       "      <td>case</td>\n",
       "    </tr>\n",
       "    <tr>\n",
       "      <th>4</th>\n",
       "      <td>Mariano</td>\n",
       "      <td>PROPN</td>\n",
       "      <td>PROPN</td>\n",
       "      <td>nmod</td>\n",
       "    </tr>\n",
       "    <tr>\n",
       "      <th>5</th>\n",
       "      <td>Rajoy</td>\n",
       "      <td>PROPN</td>\n",
       "      <td>PROPN</td>\n",
       "      <td>flat</td>\n",
       "    </tr>\n",
       "    <tr>\n",
       "      <th>6</th>\n",
       "      <td>con</td>\n",
       "      <td>ADP</td>\n",
       "      <td>ADP</td>\n",
       "      <td>case</td>\n",
       "    </tr>\n",
       "    <tr>\n",
       "      <th>7</th>\n",
       "      <td>300</td>\n",
       "      <td>NUM</td>\n",
       "      <td>NUM</td>\n",
       "      <td>nummod</td>\n",
       "    </tr>\n",
       "    <tr>\n",
       "      <th>8</th>\n",
       "      <td>€</td>\n",
       "      <td>NOUN</td>\n",
       "      <td>NOUN</td>\n",
       "      <td>nmod</td>\n",
       "    </tr>\n",
       "    <tr>\n",
       "      <th>9</th>\n",
       "      <td>por</td>\n",
       "      <td>ADP</td>\n",
       "      <td>ADP</td>\n",
       "      <td>mark</td>\n",
       "    </tr>\n",
       "    <tr>\n",
       "      <th>10</th>\n",
       "      <td>caminar</td>\n",
       "      <td>VERB</td>\n",
       "      <td>VERB</td>\n",
       "      <td>acl</td>\n",
       "    </tr>\n",
       "    <tr>\n",
       "      <th>11</th>\n",
       "      <td>demasiado</td>\n",
       "      <td>ADV</td>\n",
       "      <td>ADV</td>\n",
       "      <td>advmod</td>\n",
       "    </tr>\n",
       "    <tr>\n",
       "      <th>12</th>\n",
       "      <td>rápido</td>\n",
       "      <td>ADJ</td>\n",
       "      <td>ADJ</td>\n",
       "      <td>advmod</td>\n",
       "    </tr>\n",
       "  </tbody>\n",
       "</table>\n",
       "</div>"
      ],
      "text/plain": [
       "         Text    PoS    TAG     DEP\n",
       "0          Un    DET    DET     det\n",
       "1       radar    ADJ    ADJ    amod\n",
       "2       multo   NOUN   NOUN    ROOT\n",
       "3           a    ADP    ADP    case\n",
       "4     Mariano  PROPN  PROPN    nmod\n",
       "5       Rajoy  PROPN  PROPN    flat\n",
       "6         con    ADP    ADP    case\n",
       "7         300    NUM    NUM  nummod\n",
       "8           €   NOUN   NOUN    nmod\n",
       "9         por    ADP    ADP    mark\n",
       "10    caminar   VERB   VERB     acl\n",
       "11  demasiado    ADV    ADV  advmod\n",
       "12     rápido    ADJ    ADJ  advmod"
      ]
     },
     "execution_count": 11,
     "metadata": {},
     "output_type": "execute_result"
    }
   ],
   "source": [
    "doc = nlp(\"Un radar multo a Mariano Rajoy con 300€ por caminar demasiado rápido\")\n",
    "pos = [[tk.text, tk.pos_, tk.tag_, tk.dep_] for tk in doc]\n",
    "\n",
    "import pandas as pd\n",
    "pd.DataFrame(pos, columns=[\"Text\", \"PoS\", \"TAG\", \"DEP\"])"
   ]
  },
  {
   "cell_type": "markdown",
   "metadata": {},
   "source": [
    "## -Named Entity Recognition (NER)\n",
    "\n",
    "* Named Entity Recognition (Reconocimiento de Entidades Nombradas) es una tarea de extracción de información que busca localizar y clasificar en categorías predefinidas, como personas, organizaciones, lugares, expresiones de tiempo y cantidades, las entidades nombradas encontradas en un texto."
   ]
  },
  {
   "cell_type": "code",
   "execution_count": 13,
   "metadata": {},
   "outputs": [
    {
     "name": "stdout",
     "output_type": "stream",
     "text": [
      "Leo Messi - PER - Named person or family.\n",
      "FC barcelona - ORG - Companies, agencies, institutions, etc.\n",
      "Liga 2017-18 - ORG - Companies, agencies, institutions, etc.\n"
     ]
    }
   ],
   "source": [
    "doc = nlp(\"Leo Messi jugador del FC barcelona marco 34 en la Liga 2017-18\")\n",
    "for entity in doc.ents:\n",
    "    print(entity.text + ' - ' + entity.label_ + ' - ' + str(spacy.explain(entity.label_)))"
   ]
  },
  {
   "cell_type": "markdown",
   "metadata": {},
   "source": [
    "\n",
    "<hr>\n",
    "\n",
    "\n",
    "# -Resumen\n",
    "\n",
    "* Una vez creado el documento a partir del texto plano, tenemos ese texto tokenizado.\n",
    "\n",
    "\n",
    "* Los objetos de la clase ***Token*** tienen una serie de propiedades que permiten obtener mucha información relativa a los tokens (o palabras).\n",
    "\n",
    "\n",
    "* Haciendo un resumen de lo visto anteriormente podemos obtener la siguiente información de las palabras de un texto:"
   ]
  },
  {
   "cell_type": "code",
   "execution_count": 15,
   "metadata": {},
   "outputs": [
    {
     "data": {
      "text/html": [
       "<div>\n",
       "<style scoped>\n",
       "    .dataframe tbody tr th:only-of-type {\n",
       "        vertical-align: middle;\n",
       "    }\n",
       "\n",
       "    .dataframe tbody tr th {\n",
       "        vertical-align: top;\n",
       "    }\n",
       "\n",
       "    .dataframe thead th {\n",
       "        text-align: right;\n",
       "    }\n",
       "</style>\n",
       "<table border=\"1\" class=\"dataframe\">\n",
       "  <thead>\n",
       "    <tr style=\"text-align: right;\">\n",
       "      <th></th>\n",
       "      <th>Text</th>\n",
       "      <th>Lema</th>\n",
       "      <th>PoS</th>\n",
       "      <th>TAG</th>\n",
       "      <th>DEP</th>\n",
       "      <th>Shape</th>\n",
       "      <th>Alpha</th>\n",
       "      <th>is Stop word</th>\n",
       "    </tr>\n",
       "  </thead>\n",
       "  <tbody>\n",
       "    <tr>\n",
       "      <th>0</th>\n",
       "      <td>Un</td>\n",
       "      <td>uno</td>\n",
       "      <td>DET</td>\n",
       "      <td>DET</td>\n",
       "      <td>det</td>\n",
       "      <td>Xx</td>\n",
       "      <td>True</td>\n",
       "      <td>True</td>\n",
       "    </tr>\n",
       "    <tr>\n",
       "      <th>1</th>\n",
       "      <td>radar</td>\n",
       "      <td>radar</td>\n",
       "      <td>NOUN</td>\n",
       "      <td>NOUN</td>\n",
       "      <td>ROOT</td>\n",
       "      <td>xxxx</td>\n",
       "      <td>True</td>\n",
       "      <td>False</td>\n",
       "    </tr>\n",
       "    <tr>\n",
       "      <th>2</th>\n",
       "      <td>multa</td>\n",
       "      <td>multa</td>\n",
       "      <td>NOUN</td>\n",
       "      <td>NOUN</td>\n",
       "      <td>amod</td>\n",
       "      <td>xxxx</td>\n",
       "      <td>True</td>\n",
       "      <td>False</td>\n",
       "    </tr>\n",
       "    <tr>\n",
       "      <th>3</th>\n",
       "      <td>a</td>\n",
       "      <td>a</td>\n",
       "      <td>ADP</td>\n",
       "      <td>ADP</td>\n",
       "      <td>case</td>\n",
       "      <td>x</td>\n",
       "      <td>True</td>\n",
       "      <td>True</td>\n",
       "    </tr>\n",
       "    <tr>\n",
       "      <th>4</th>\n",
       "      <td>Mariano</td>\n",
       "      <td>Mariano</td>\n",
       "      <td>PROPN</td>\n",
       "      <td>PROPN</td>\n",
       "      <td>nmod</td>\n",
       "      <td>Xxxxx</td>\n",
       "      <td>True</td>\n",
       "      <td>False</td>\n",
       "    </tr>\n",
       "    <tr>\n",
       "      <th>5</th>\n",
       "      <td>Rajoy</td>\n",
       "      <td>Rajoy</td>\n",
       "      <td>PROPN</td>\n",
       "      <td>PROPN</td>\n",
       "      <td>flat</td>\n",
       "      <td>Xxxxx</td>\n",
       "      <td>True</td>\n",
       "      <td>False</td>\n",
       "    </tr>\n",
       "    <tr>\n",
       "      <th>6</th>\n",
       "      <td>con</td>\n",
       "      <td>con</td>\n",
       "      <td>ADP</td>\n",
       "      <td>ADP</td>\n",
       "      <td>case</td>\n",
       "      <td>xxx</td>\n",
       "      <td>True</td>\n",
       "      <td>True</td>\n",
       "    </tr>\n",
       "    <tr>\n",
       "      <th>7</th>\n",
       "      <td>300</td>\n",
       "      <td>300</td>\n",
       "      <td>NUM</td>\n",
       "      <td>NUM</td>\n",
       "      <td>nummod</td>\n",
       "      <td>ddd</td>\n",
       "      <td>False</td>\n",
       "      <td>False</td>\n",
       "    </tr>\n",
       "    <tr>\n",
       "      <th>8</th>\n",
       "      <td>€</td>\n",
       "      <td>€</td>\n",
       "      <td>NOUN</td>\n",
       "      <td>NOUN</td>\n",
       "      <td>nmod</td>\n",
       "      <td>€</td>\n",
       "      <td>False</td>\n",
       "      <td>False</td>\n",
       "    </tr>\n",
       "    <tr>\n",
       "      <th>9</th>\n",
       "      <td>por</td>\n",
       "      <td>por</td>\n",
       "      <td>ADP</td>\n",
       "      <td>ADP</td>\n",
       "      <td>mark</td>\n",
       "      <td>xxx</td>\n",
       "      <td>True</td>\n",
       "      <td>True</td>\n",
       "    </tr>\n",
       "    <tr>\n",
       "      <th>10</th>\n",
       "      <td>caminar</td>\n",
       "      <td>caminar</td>\n",
       "      <td>VERB</td>\n",
       "      <td>VERB</td>\n",
       "      <td>acl</td>\n",
       "      <td>xxxx</td>\n",
       "      <td>True</td>\n",
       "      <td>False</td>\n",
       "    </tr>\n",
       "    <tr>\n",
       "      <th>11</th>\n",
       "      <td>demasiado</td>\n",
       "      <td>demasiado</td>\n",
       "      <td>ADV</td>\n",
       "      <td>ADV</td>\n",
       "      <td>advmod</td>\n",
       "      <td>xxxx</td>\n",
       "      <td>True</td>\n",
       "      <td>True</td>\n",
       "    </tr>\n",
       "    <tr>\n",
       "      <th>12</th>\n",
       "      <td>rápido</td>\n",
       "      <td>rápido</td>\n",
       "      <td>ADJ</td>\n",
       "      <td>ADJ</td>\n",
       "      <td>advmod</td>\n",
       "      <td>xxxx</td>\n",
       "      <td>True</td>\n",
       "      <td>False</td>\n",
       "    </tr>\n",
       "  </tbody>\n",
       "</table>\n",
       "</div>"
      ],
      "text/plain": [
       "         Text       Lema    PoS    TAG     DEP  Shape  Alpha  is Stop word\n",
       "0          Un        uno    DET    DET     det     Xx   True          True\n",
       "1       radar      radar   NOUN   NOUN    ROOT   xxxx   True         False\n",
       "2       multa      multa   NOUN   NOUN    amod   xxxx   True         False\n",
       "3           a          a    ADP    ADP    case      x   True          True\n",
       "4     Mariano    Mariano  PROPN  PROPN    nmod  Xxxxx   True         False\n",
       "5       Rajoy      Rajoy  PROPN  PROPN    flat  Xxxxx   True         False\n",
       "6         con        con    ADP    ADP    case    xxx   True          True\n",
       "7         300        300    NUM    NUM  nummod    ddd  False         False\n",
       "8           €          €   NOUN   NOUN    nmod      €  False         False\n",
       "9         por        por    ADP    ADP    mark    xxx   True          True\n",
       "10    caminar    caminar   VERB   VERB     acl   xxxx   True         False\n",
       "11  demasiado  demasiado    ADV    ADV  advmod   xxxx   True          True\n",
       "12     rápido     rápido    ADJ    ADJ  advmod   xxxx   True         False"
      ]
     },
     "execution_count": 15,
     "metadata": {},
     "output_type": "execute_result"
    }
   ],
   "source": [
    "import spacy\n",
    "import pandas as pd\n",
    "\n",
    "nlp = spacy.load('es_core_news_sm')\n",
    "doc = nlp(\"Un radar multa a Mariano Rajoy con 300€ por caminar demasiado rápido\")\n",
    "\n",
    "result = [[tk.text, tk.lemma_, tk.pos_, tk.tag_, tk.dep_, tk.shape_, tk.is_alpha, tk.is_stop] for tk in doc]\n",
    "pd.DataFrame(result, columns=[\"Text\", \"Lema\", \"PoS\", \"TAG\", \"DEP\", \"Shape\", \"Alpha\", \"is Stop word\"])"
   ]
  },
  {
   "cell_type": "markdown",
   "metadata": {},
   "source": [
    "#### Para más información visitar el siguiente enlace: https://spacy.io/usage/spacy-101#annotations"
   ]
  }
 ],
 "metadata": {
  "kernelspec": {
   "display_name": "Python 3 (ipykernel)",
   "language": "python",
   "name": "python3"
  },
  "language_info": {
   "codemirror_mode": {
    "name": "ipython",
    "version": 3
   },
   "file_extension": ".py",
   "mimetype": "text/x-python",
   "name": "python",
   "nbconvert_exporter": "python",
   "pygments_lexer": "ipython3",
   "version": "3.12.1"
  }
 },
 "nbformat": 4,
 "nbformat_minor": 4
}
